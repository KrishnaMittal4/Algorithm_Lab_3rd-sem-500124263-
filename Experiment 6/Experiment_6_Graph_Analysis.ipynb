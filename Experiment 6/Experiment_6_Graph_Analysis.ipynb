{
 "cells": [
  {
   "cell_type": "code",
   "execution_count": 1,
   "metadata": {
    "id": "YjR74Jxy4FaI"
   },
   "outputs": [],
   "source": [
    "import matplotlib.pyplot as plt  "
   ]
  },
  {
   "cell_type": "code",
   "execution_count": null,
   "metadata": {},
   "outputs": [],
   "source": [
    "sizes = [500, 1000, 1500, 2000]   \n",
    "dijkstra_times = [0.002100, 0.006300, 0.013900, 0.023100]  \n",
    "bellman_times = [0.005300, 0.023700, 0.056500, 0.094700] \n",
    " \n",
    "plt.figure(figsize=(10, 6))  \n",
    "plt.plot(sizes, dijkstra_times, marker='o', label='Dijkstra\\'s Algorithm', color='blue')  \n",
    "plt.plot(sizes, bellman_times, marker='o', label='Bellman-Ford Algorithm', color='red')  \n",
    "\n",
    " \n",
    "plt.title('Average Execution Time of Dijkstra and Bellman-Ford Algorithms')  \n",
    "plt.xlabel('Number of Vertices')  \n",
    "plt.ylabel('Average Time (seconds)')  \n",
    "plt.xticks(sizes)  \n",
    "plt.yscale('log')   \n",
    "plt.grid(True)  \n",
    "plt.legend()  \n",
    "\n",
    "\n",
    "plt.tight_layout()  \n",
    "plt.show()"
   ]
  }
 ],
 "metadata": {
  "colab": {
   "provenance": []
  },
  "kernelspec": {
   "display_name": "Python 3",
   "name": "python3"
  },
  "language_info": {
   "codemirror_mode": {
    "name": "ipython",
    "version": 3
   },
   "file_extension": ".py",
   "mimetype": "text/x-python",
   "name": "python",
   "nbconvert_exporter": "python",
   "pygments_lexer": "ipython3",
   "version": "3.11.9"
  }
 },
 "nbformat": 4,
 "nbformat_minor": 0
}
